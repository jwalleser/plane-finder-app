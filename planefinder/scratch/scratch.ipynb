{
 "cells": [
  {
   "cell_type": "markdown",
   "metadata": {},
   "source": [
    "# Plane Prices\n",
    "My objective is to collect plane prices as a function of time and model.\n",
    "My datasource is [Trade-A-Plane](https://www.trade-a-plane.com). I am interested in\n",
    "Vans RV-10, Cessna 182, and all Maules. I want to create a table with the following\n",
    "fields:\n",
    "\n",
    "1. Year\n",
    "2. Manufacturer\n",
    "3. Model\n",
    "4. TTAF\n",
    "5. SMOH\n",
    "6. Price\n",
    "7. Price-Date\n",
    "\n"
   ]
  },
  {
   "cell_type": "code",
   "execution_count": null,
   "metadata": {},
   "outputs": [],
   "source": [
    "import requests\n",
    "website = 'https://trade-a-plane.com'\n",
    "response = requests.get(website)\n",
    "response.text"
   ]
  },
  {
   "cell_type": "markdown",
   "metadata": {},
   "source": [
    "The above requests the target homepage. We can't magically get all the information\n",
    "we want from the response. We need to find a way to filter to only the data we want.\n",
    "Let us look for Cessna 182 type aircraft."
   ]
  },
  {
   "cell_type": "code",
   "execution_count": null,
   "metadata": {},
   "outputs": [],
   "source": [
    "cessna_182_cat = 'https://www.trade-a-plane.com/search?category_level1=Single+Engine+Piston&make=CESSNA&model_group=CESSNA+182+SERIES&s-type=aircraft'\n",
    "test_response = requests.get(cessna_182_cat).text"
   ]
  },
  {
   "cell_type": "markdown",
   "metadata": {},
   "source": [
    "[Beautiful Soup](https://beautiful-soup-4.readthedocs.io/en/latest/) is designed for web scraping. That's exactly what we are doing."
   ]
  },
  {
   "cell_type": "code",
   "execution_count": null,
   "metadata": {},
   "outputs": [],
   "source": [
    "from IPython.display import HTML\n",
    "from bs4 import BeautifulSoup\n",
    "\n",
    "soup = BeautifulSoup(test_response)\n",
    "with open('test_page.html', 'wt') as f:\n",
    "    f.write(soup.prettify())\n",
    "    \n",
    "def is_listing_result(tag):\n",
    "    \"\"\"\n",
    "    True if the node is a result listing.\n",
    "    \n",
    "    Result listings are <div> tags with `class=\"result_listing\"\n",
    "    \"\"\"\n",
    "    if not tag.name == 'div':\n",
    "        return False\n",
    "    if not tag.has_attr('class'):\n",
    "        return False\n",
    "    classes = tag['class']\n",
    "    return ('result_listing' in classes\n",
    "     and 'result' in classes)\n",
    "filtered = soup.find_all(is_listing_result)\n",
    "filtered[0]"
   ]
  },
  {
   "cell_type": "code",
   "execution_count": null,
   "metadata": {},
   "outputs": [],
   "source": [
    "type(filtered[0])"
   ]
  },
  {
   "cell_type": "code",
   "execution_count": null,
   "metadata": {},
   "outputs": [],
   "source": [
    "with open('filtered_0.html', 'wt') as f:\n",
    "    f.write(str(filtered[0]))"
   ]
  },
  {
   "cell_type": "markdown",
   "metadata": {},
   "source": [
    "For each `result_listing`, there is a descendent tag of `<p class=\"description\">`. It contains a link to obtain more information. We want this information. Find the child `<a class=\"log_listing_click\" href=\"url/to/detail/page\">`."
   ]
  },
  {
   "cell_type": "code",
   "execution_count": null,
   "metadata": {},
   "outputs": [],
   "source": [
    "filtered[0].attrs['data-listing_id']"
   ]
  },
  {
   "cell_type": "code",
   "execution_count": null,
   "metadata": {},
   "outputs": [],
   "source": [
    "import re\n",
    "from datetime import datetime\n",
    "tag = filtered[0].find(name='p', class_='last-update')\n",
    "text = tag.text\n",
    "search_result = re.search(r'\\d{2}/\\d{2}/\\d{4}', text).group(0)\n",
    "datetime.strptime(search_result, '%m/%d/%Y')"
   ]
  },
  {
   "cell_type": "code",
   "execution_count": null,
   "metadata": {},
   "outputs": [],
   "source": [
    "# Drill down to the link\n",
    "# The whole description\n",
    "description = filtered[0].find(name='p', class_='description')\n",
    "display(type(description.text))\n",
    "display(description.text)\n",
    "# Just the anchor tag\n",
    "detail_link = description.select('a.log_listing_click')[0]\n",
    "display(detail_link)\n",
    "# Just the href\n",
    "detail_link['href']"
   ]
  },
  {
   "cell_type": "markdown",
   "metadata": {},
   "source": [
    "Navigate to the link and get a new page."
   ]
  },
  {
   "cell_type": "code",
   "execution_count": null,
   "metadata": {},
   "outputs": [],
   "source": [
    "website = 'https://trade-a-plane.com'\n",
    "detail_url = website + detail_link['href']\n",
    "print('Getting page {}'.format(detail_url))\n",
    "detail_tree = BeautifulSoup(requests.get(detail_url).text)\n",
    "with open('aircraft-detail.html', 'wt') as f:\n",
    "    f.write(detail_tree.prettify())"
   ]
  },
  {
   "cell_type": "code",
   "execution_count": null,
   "metadata": {},
   "outputs": [],
   "source": [
    "main_info = detail_tree.find(name='div', id='main_info')\n",
    "float(main_info.find(name='span', itemprop='price').text)"
   ]
  },
  {
   "cell_type": "code",
   "execution_count": null,
   "metadata": {},
   "outputs": [],
   "source": [
    "from planefinder.data import AircraftSaleEntry\n",
    "AircraftSaleEntry(url='https://www.trade-a-plane.com/search?category_level1=Single+Engine+Piston&make=CESSNA&model=182Q+SKYLANE&listing_id=2400626&s-type=aircraft',\n",
    "                  price=15000,\n",
    "                  make_model='CESSNA 182Q SKYLANE',\n",
    "                  registration='N735GS',\n",
    "                  description='1977 Cessna 182Q Skylane, 3461TT, 798 SMOH, 483 SPOH, Garmin GTN 430W, Stratus ES ADS-B Out Transponder (ADS-B In WiFI Traffic and Wx Link to IPad (Foreflight), Narco Mark 12D, Garmin GMA 340, Bendix King KI206, JPI EGT-701 Engine Monitor, Horton STOL Kit (Leading Edge Cuff, Droop Wing Tips, Stall Fences), Rosen Sun Visors, Standby Altimeter, & More!',\n",
    "                  search_date=datetime(2021, 12, 12, 11, 53),\n",
    "                  ttaf=0,\n",
    "                  smoh=0)"
   ]
  }
 ],
 "metadata": {
  "interpreter": {
   "hash": "0231d31ac9594665b4f18b5326966780cc859f72e6c686979e458718f2cd012a"
  },
  "kernelspec": {
   "display_name": "Python 3",
   "language": "python",
   "name": "python3"
  },
  "language_info": {
   "codemirror_mode": {
    "name": "ipython",
    "version": 3
   },
   "file_extension": ".py",
   "mimetype": "text/x-python",
   "name": "python",
   "nbconvert_exporter": "python",
   "pygments_lexer": "ipython3",
   "version": "3.7.1"
  }
 },
 "nbformat": 4,
 "nbformat_minor": 5
}
